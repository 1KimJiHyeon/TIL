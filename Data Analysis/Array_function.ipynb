{
 "cells": [
  {
   "cell_type": "code",
   "execution_count": 1,
   "metadata": {},
   "outputs": [],
   "source": [
    "import numpy as np"
   ]
  },
  {
   "cell_type": "code",
   "execution_count": 2,
   "metadata": {},
   "outputs": [],
   "source": [
    "arr = np.arange(1,10)"
   ]
  },
  {
   "cell_type": "code",
   "execution_count": 3,
   "metadata": {},
   "outputs": [
    {
     "data": {
      "text/plain": [
       "array([1, 2, 3, 4, 5, 6, 7, 8, 9])"
      ]
     },
     "execution_count": 3,
     "metadata": {},
     "output_type": "execute_result"
    }
   ],
   "source": [
    "arr"
   ]
  },
  {
   "cell_type": "code",
   "execution_count": 4,
   "metadata": {},
   "outputs": [
    {
     "data": {
      "text/plain": [
       "array([1.        , 1.41421356, 1.73205081, 2.        , 2.23606798,\n",
       "       2.44948974, 2.64575131, 2.82842712, 3.        ])"
      ]
     },
     "execution_count": 4,
     "metadata": {},
     "output_type": "execute_result"
    }
   ],
   "source": [
    "np.sqrt(arr)"
   ]
  },
  {
   "cell_type": "code",
   "execution_count": 5,
   "metadata": {},
   "outputs": [
    {
     "data": {
      "text/plain": [
       "array([0.        , 0.30103   , 0.47712125, 0.60205999, 0.69897   ,\n",
       "       0.77815125, 0.84509804, 0.90308999, 0.95424251])"
      ]
     },
     "execution_count": 5,
     "metadata": {},
     "output_type": "execute_result"
    }
   ],
   "source": [
    "np.log10(arr)"
   ]
  },
  {
   "cell_type": "code",
   "execution_count": 6,
   "metadata": {},
   "outputs": [],
   "source": [
    "x=np.random.randn(8)\n",
    "y=np.random.randn(8)"
   ]
  },
  {
   "cell_type": "code",
   "execution_count": 7,
   "metadata": {},
   "outputs": [
    {
     "data": {
      "text/plain": [
       "array([-0.26275521, -0.61908492, -0.58444357,  0.01556667, -0.22498728,\n",
       "        1.57306212, -0.13100209,  0.2928574 ])"
      ]
     },
     "execution_count": 7,
     "metadata": {},
     "output_type": "execute_result"
    }
   ],
   "source": [
    "x"
   ]
  },
  {
   "cell_type": "code",
   "execution_count": 8,
   "metadata": {},
   "outputs": [
    {
     "data": {
      "text/plain": [
       "array([ 0.23089652, -0.3161978 , -0.51333782,  2.07334421,  0.14880048,\n",
       "        1.142573  , -0.45428084,  0.18943261])"
      ]
     },
     "execution_count": 8,
     "metadata": {},
     "output_type": "execute_result"
    }
   ],
   "source": [
    "y"
   ]
  },
  {
   "cell_type": "code",
   "execution_count": 9,
   "metadata": {},
   "outputs": [
    {
     "data": {
      "text/plain": [
       "array([ 0.23089652, -0.3161978 , -0.51333782,  2.07334421,  0.14880048,\n",
       "        1.57306212, -0.13100209,  0.2928574 ])"
      ]
     },
     "execution_count": 9,
     "metadata": {},
     "output_type": "execute_result"
    }
   ],
   "source": [
    "np.maximum(x,y)"
   ]
  },
  {
   "cell_type": "code",
   "execution_count": 10,
   "metadata": {},
   "outputs": [],
   "source": [
    "arr = np.random.randn(5,4)"
   ]
  },
  {
   "cell_type": "code",
   "execution_count": 11,
   "metadata": {},
   "outputs": [
    {
     "data": {
      "text/plain": [
       "array([[-0.57740035,  1.38300897, -0.91029239,  1.21309034],\n",
       "       [-1.02332439, -1.12474972,  1.88127879, -1.38049196],\n",
       "       [-1.57342441, -0.81490794, -0.45384403,  0.04588368],\n",
       "       [-0.77157354, -0.58084443,  0.71411327, -0.45162414],\n",
       "       [-0.14789439, -0.56196555,  0.2169135 ,  2.33416151]])"
      ]
     },
     "execution_count": 11,
     "metadata": {},
     "output_type": "execute_result"
    }
   ],
   "source": [
    "arr"
   ]
  },
  {
   "cell_type": "code",
   "execution_count": 12,
   "metadata": {},
   "outputs": [
    {
     "data": {
      "text/plain": [
       "-2.5838871879510825"
      ]
     },
     "execution_count": 12,
     "metadata": {},
     "output_type": "execute_result"
    }
   ],
   "source": [
    "arr.sum()"
   ]
  },
  {
   "cell_type": "code",
   "execution_count": 13,
   "metadata": {},
   "outputs": [
    {
     "data": {
      "text/plain": [
       "-0.12919435939755414"
      ]
     },
     "execution_count": 13,
     "metadata": {},
     "output_type": "execute_result"
    }
   ],
   "source": [
    "arr.mean()"
   ]
  },
  {
   "cell_type": "code",
   "execution_count": 14,
   "metadata": {},
   "outputs": [
    {
     "data": {
      "text/plain": [
       "array([-4.09361709, -1.69945867,  1.44816914,  1.76101944])"
      ]
     },
     "execution_count": 14,
     "metadata": {},
     "output_type": "execute_result"
    }
   ],
   "source": [
    "arr.sum(axis=0)"
   ]
  },
  {
   "cell_type": "code",
   "execution_count": 15,
   "metadata": {},
   "outputs": [
    {
     "data": {
      "text/plain": [
       "array([ 1.10840657, -1.64728728, -2.7962927 , -1.08992884,  1.84121507])"
      ]
     },
     "execution_count": 15,
     "metadata": {},
     "output_type": "execute_result"
    }
   ],
   "source": [
    "arr.sum(axis=1)"
   ]
  },
  {
   "cell_type": "code",
   "execution_count": 16,
   "metadata": {},
   "outputs": [
    {
     "data": {
      "text/plain": [
       "array([[False,  True, False,  True],\n",
       "       [False, False,  True, False],\n",
       "       [False, False, False,  True],\n",
       "       [False, False,  True, False],\n",
       "       [False, False,  True,  True]])"
      ]
     },
     "execution_count": 16,
     "metadata": {},
     "output_type": "execute_result"
    }
   ],
   "source": [
    "arr > 0"
   ]
  },
  {
   "cell_type": "code",
   "execution_count": 17,
   "metadata": {},
   "outputs": [
    {
     "data": {
      "text/plain": [
       "7"
      ]
     },
     "execution_count": 17,
     "metadata": {},
     "output_type": "execute_result"
    }
   ],
   "source": [
    "(arr > 0).sum()"
   ]
  },
  {
   "cell_type": "code",
   "execution_count": 18,
   "metadata": {},
   "outputs": [],
   "source": [
    "arr = np.random.randn(8)"
   ]
  },
  {
   "cell_type": "code",
   "execution_count": 19,
   "metadata": {},
   "outputs": [
    {
     "data": {
      "text/plain": [
       "array([ 0.95273398,  1.58653145, -1.22152808,  0.95740078, -0.93567436,\n",
       "       -0.50258675,  1.00704883,  2.1235772 ])"
      ]
     },
     "execution_count": 19,
     "metadata": {},
     "output_type": "execute_result"
    }
   ],
   "source": [
    "arr"
   ]
  },
  {
   "cell_type": "code",
   "execution_count": 20,
   "metadata": {},
   "outputs": [
    {
     "data": {
      "text/plain": [
       "array([-1.22152808, -0.93567436, -0.50258675,  0.95273398,  0.95740078,\n",
       "        1.00704883,  1.58653145,  2.1235772 ])"
      ]
     },
     "execution_count": 20,
     "metadata": {},
     "output_type": "execute_result"
    }
   ],
   "source": [
    "np.sort(arr)"
   ]
  },
  {
   "cell_type": "code",
   "execution_count": 23,
   "metadata": {},
   "outputs": [
    {
     "data": {
      "text/plain": [
       "array([ 2.1235772 ,  1.58653145,  1.00704883,  0.95740078,  0.95273398,\n",
       "       -0.50258675, -0.93567436, -1.22152808])"
      ]
     },
     "execution_count": 23,
     "metadata": {},
     "output_type": "execute_result"
    }
   ],
   "source": [
    "np.sort(arr)[::-1]"
   ]
  },
  {
   "cell_type": "code",
   "execution_count": 24,
   "metadata": {},
   "outputs": [],
   "source": [
    "arr = np.random.randn(5,3)"
   ]
  },
  {
   "cell_type": "code",
   "execution_count": 25,
   "metadata": {},
   "outputs": [
    {
     "data": {
      "text/plain": [
       "array([[ 1.08311584, -0.80282828,  0.14042954],\n",
       "       [ 0.48294241, -0.13647795,  1.64083104],\n",
       "       [-0.80709198,  1.03600475, -0.3115955 ],\n",
       "       [ 0.33133693,  0.38269814,  1.00914184],\n",
       "       [ 1.01327042,  0.79396148, -1.35584305]])"
      ]
     },
     "execution_count": 25,
     "metadata": {},
     "output_type": "execute_result"
    }
   ],
   "source": [
    "arr"
   ]
  },
  {
   "cell_type": "code",
   "execution_count": 26,
   "metadata": {},
   "outputs": [
    {
     "data": {
      "text/plain": [
       "array([[-0.80709198, -0.80282828, -1.35584305],\n",
       "       [ 0.33133693, -0.13647795, -0.3115955 ],\n",
       "       [ 0.48294241,  0.38269814,  0.14042954],\n",
       "       [ 1.01327042,  0.79396148,  1.00914184],\n",
       "       [ 1.08311584,  1.03600475,  1.64083104]])"
      ]
     },
     "execution_count": 26,
     "metadata": {},
     "output_type": "execute_result"
    }
   ],
   "source": [
    "np.sort(arr, axis=0)"
   ]
  },
  {
   "cell_type": "code",
   "execution_count": 27,
   "metadata": {},
   "outputs": [
    {
     "data": {
      "text/plain": [
       "array([[-0.80282828,  0.14042954,  1.08311584],\n",
       "       [-0.13647795,  0.48294241,  1.64083104],\n",
       "       [-0.80709198, -0.3115955 ,  1.03600475],\n",
       "       [ 0.33133693,  0.38269814,  1.00914184],\n",
       "       [-1.35584305,  0.79396148,  1.01327042]])"
      ]
     },
     "execution_count": 27,
     "metadata": {},
     "output_type": "execute_result"
    }
   ],
   "source": [
    "np.sort(arr, axis=1)"
   ]
  },
  {
   "cell_type": "code",
   "execution_count": 28,
   "metadata": {},
   "outputs": [],
   "source": [
    "large_arr = np.random.randn(150)"
   ]
  },
  {
   "cell_type": "code",
   "execution_count": 29,
   "metadata": {},
   "outputs": [
    {
     "data": {
      "text/plain": [
       "array([ 0.4985614 , -0.59570558, -0.41672652, -1.97396803, -0.75106266,\n",
       "       -1.39248444, -0.80432961, -1.07976738, -0.68950504, -0.05041857,\n",
       "        1.87235057, -0.12436237, -0.42490475,  0.10630298,  0.6531737 ,\n",
       "       -0.16880697, -0.1131915 , -0.04829337,  0.77487668,  1.16766625,\n",
       "        0.92566477, -0.11701713, -0.81769251, -1.97270836, -0.01555147,\n",
       "        0.52272794, -1.45693328,  1.40036524, -0.06504748,  0.14614772,\n",
       "        0.77479236, -2.07301587,  1.21244997, -0.51485295, -1.55015048,\n",
       "       -0.17790911,  0.07799407, -1.60180624,  0.26323576,  0.63700394,\n",
       "        0.24266432,  0.19694884, -0.29504115, -0.88890666,  1.06152676,\n",
       "        0.50470865, -0.50702179,  0.36478026,  0.09943171, -0.22918923,\n",
       "        0.89360564,  0.73024177,  0.02005878,  1.20527469, -0.65133656,\n",
       "        1.69555115, -0.05380874,  0.12003202,  0.97979339, -1.41649501,\n",
       "       -0.44230489, -1.19643343, -0.9260645 ,  1.04413842, -2.4532588 ,\n",
       "        0.97219139, -0.33870176, -0.32784253,  1.60948776,  0.5747475 ,\n",
       "       -2.1379548 , -1.10220388, -0.08339122, -0.41595769,  0.77493304,\n",
       "       -0.69540646,  1.76713688, -1.85040594, -1.04422718,  0.3089784 ,\n",
       "       -0.03748024, -1.27567671,  1.87302983, -1.55060536, -0.51753697,\n",
       "        0.3552908 ,  0.41687581, -0.24084718, -0.22972954,  0.21488744,\n",
       "        0.26079407, -1.86566969,  0.83075567,  0.30320267, -0.59331994,\n",
       "       -0.07216353, -0.5314466 ,  1.40995215, -0.01272855,  1.58322065,\n",
       "       -0.82597653,  0.01571875, -0.07270527,  0.16124289,  0.44631687,\n",
       "       -0.51808107, -0.16972905, -0.70706833,  0.05589064,  0.35161383,\n",
       "        1.44162261, -2.19401291,  1.00700703,  0.52994829, -0.28350979,\n",
       "        0.92585456, -0.57552368, -1.31230148,  0.32624752, -2.69781453,\n",
       "       -0.41820467, -0.05323822,  2.12282085,  0.07968151, -0.2039806 ,\n",
       "       -0.27730465, -0.57213464,  0.28045787,  3.77900812,  1.82049408,\n",
       "       -0.41211217,  0.24814329,  0.01082277,  0.10304351, -1.08655755,\n",
       "       -0.72906767, -0.14861829,  0.42402526,  0.92381192, -0.77844212,\n",
       "       -1.17275961,  0.55699992,  0.59385534, -1.31312204,  0.95051488,\n",
       "       -0.02502322, -0.76062862,  1.04774352,  1.55229544,  0.28668095])"
      ]
     },
     "execution_count": 29,
     "metadata": {},
     "output_type": "execute_result"
    }
   ],
   "source": [
    "large_arr"
   ]
  },
  {
   "cell_type": "code",
   "execution_count": 30,
   "metadata": {},
   "outputs": [
    {
     "data": {
      "text/plain": [
       "3.7790081224851853"
      ]
     },
     "execution_count": 30,
     "metadata": {},
     "output_type": "execute_result"
    }
   ],
   "source": [
    "np.sort(large_arr)[::-1][int(0.05) * len(large_arr)]"
   ]
  },
  {
   "cell_type": "code",
   "execution_count": 31,
   "metadata": {},
   "outputs": [],
   "source": [
    "names = np.array([\"Jihyeon\",\"Minkyu\",\"Eunu\",\"Jihyeon\",\"Hyeonu\",\"Minkyu\",\"Kilho\"])\n",
    "ints = np.array([3,3,3,2,2,1,1,4,4])"
   ]
  },
  {
   "cell_type": "code",
   "execution_count": 33,
   "metadata": {},
   "outputs": [
    {
     "data": {
      "text/plain": [
       "array(['Eunu', 'Hyeonu', 'Jihyeon', 'Kilho', 'Minkyu'], dtype='<U7')"
      ]
     },
     "execution_count": 33,
     "metadata": {},
     "output_type": "execute_result"
    }
   ],
   "source": [
    "np.unique(names)"
   ]
  },
  {
   "cell_type": "code",
   "execution_count": 34,
   "metadata": {},
   "outputs": [
    {
     "data": {
      "text/plain": [
       "array([1, 2, 3, 4])"
      ]
     },
     "execution_count": 34,
     "metadata": {},
     "output_type": "execute_result"
    }
   ],
   "source": [
    "np.unique(ints)"
   ]
  }
 ],
 "metadata": {
  "kernelspec": {
   "display_name": "Python 3",
   "language": "python",
   "name": "python3"
  },
  "language_info": {
   "codemirror_mode": {
    "name": "ipython",
    "version": 3
   },
   "file_extension": ".py",
   "mimetype": "text/x-python",
   "name": "python",
   "nbconvert_exporter": "python",
   "pygments_lexer": "ipython3",
   "version": "3.7.2"
  }
 },
 "nbformat": 4,
 "nbformat_minor": 2
}
